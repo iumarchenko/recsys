{
  "nbformat": 4,
  "nbformat_minor": 0,
  "metadata": {
    "kernelspec": {
      "display_name": "Python 3",
      "language": "python",
      "name": "python3"
    },
    "language_info": {
      "codemirror_mode": {
        "name": "ipython",
        "version": 3
      },
      "file_extension": ".py",
      "mimetype": "text/x-python",
      "name": "python",
      "nbconvert_exporter": "python",
      "pygments_lexer": "ipython3",
      "version": "3.7.3"
    },
    "colab": {
      "name": "hw_webinar_1.ipynb",
      "provenance": [],
      "collapsed_sections": []
    }
  },
  "cells": [
    {
      "cell_type": "markdown",
      "metadata": {
        "id": "2phnd0ZkoIPv",
        "colab_type": "text"
      },
      "source": [
        "# Домашнее задание - 1"
      ]
    },
    {
      "cell_type": "markdown",
      "metadata": {
        "id": "MBBipzQeoIPw",
        "colab_type": "text"
      },
      "source": [
        "Заполните пропуски #your_code для функций ниже"
      ]
    },
    {
      "cell_type": "code",
      "metadata": {
        "id": "3apsvN7VoIPx",
        "colab_type": "code",
        "colab": {}
      },
      "source": [
        "import numpy as np\n",
        "\n",
        "recommended_list = [143, 156, 1134, 991, 27, 1543, 3345, 533, 11, 43] #id товаров\n",
        "bought_list = [521, 32, 143, 991]\n",
        "\n",
        "prices_recommended = [100, 90, 10, 450, 50, 37, 99, 120, 34, 100]\n",
        "prices_bought = [110, 190, 100, 450]"
      ],
      "execution_count": null,
      "outputs": []
    },
    {
      "cell_type": "code",
      "metadata": {
        "id": "ZpeF6GxBoIP3",
        "colab_type": "code",
        "colab": {},
        "outputId": "54e9dcea-cb08-4fe8-8ce6-83b004e2d7ab"
      },
      "source": [
        "# Hit rate@k = (был ли хотя бы 1 релевантный товар среди топ-k рекомендованных)\n",
        "def hit_rate_at_k(recommended_list, bought_list, k=5):\n",
        "    bought_list = np.array(bought_list)\n",
        "    recommended_list = np.array(recommended_list)\n",
        "    \n",
        "    recommended_list = recommended_list[:k]\n",
        "    \n",
        "    flags = np.isin(bought_list, recommended_list)\n",
        "    \n",
        "    hit_rate = (flags.sum() > 0) * 1\n",
        "    \n",
        "    return hit_rate\n",
        "\n",
        "hit_rate_at_k(recommended_list, bought_list, 5)"
      ],
      "execution_count": null,
      "outputs": [
        {
          "output_type": "execute_result",
          "data": {
            "text/plain": [
              "1"
            ]
          },
          "metadata": {
            "tags": []
          },
          "execution_count": 87
        }
      ]
    },
    {
      "cell_type": "code",
      "metadata": {
        "id": "eiybMkiKoIP8",
        "colab_type": "code",
        "colab": {},
        "outputId": "9ecad8c4-fd55-4c33-e895-3e9418a9b5f9"
      },
      "source": [
        "# Money Precision@k = (revenue of recommended items @k that are relevant) / (revenue of recommended items @k)\n",
        "def money_precision_at_k(recommended_list, bought_list, prices_recommended, k=5):\n",
        "    bought_list = np.array(bought_list)\n",
        "    recommended_list = np.array(recommended_list)     \n",
        "    prices_recommended = np.array(prices_recommended)   \n",
        "\n",
        "    recommended_list = recommended_list[:k]\n",
        "    prices_recommended = prices_recommended[:k]\n",
        "    \n",
        "    flags = np.isin(recommended_list, bought_list)\n",
        "    \n",
        "    precision = sum(flags*prices_recommended)/sum(prices_recommended)\n",
        "    return precision\n",
        "\n",
        "money_precision_at_k(recommended_list, bought_list, prices_recommended, k=5)"
      ],
      "execution_count": null,
      "outputs": [
        {
          "output_type": "execute_result",
          "data": {
            "text/plain": [
              "0.7857142857142857"
            ]
          },
          "metadata": {
            "tags": []
          },
          "execution_count": 88
        }
      ]
    },
    {
      "cell_type": "markdown",
      "metadata": {
        "id": "mNaG_aCBoIQA",
        "colab_type": "text"
      },
      "source": [
        "Вопрос. у вас в лекции для этой функции (Money Precision@k) или я чего-то не понимаю или Case 2 посчитан неправильно<br>\n",
        "(60+90)/(400+60+40+40+90)=0.238, а не 15.8"
      ]
    },
    {
      "cell_type": "code",
      "metadata": {
        "id": "hghx3ySpoIQA",
        "colab_type": "code",
        "colab": {},
        "outputId": "dcd2acdd-96fe-4002-9dec-ade7fe56399c"
      },
      "source": [
        "# Recall@k = (# of recommended items @k that are relevant) / (# of relevant items)\n",
        "def recall_at_k(recommended_list, bought_list, k=5):\n",
        "    \n",
        "    bought_list = np.array(bought_list)\n",
        "    recommended_list = np.array(recommended_list)\n",
        "    \n",
        "    recommended_list = recommended_list[:k]\n",
        "    \n",
        "    flags = np.isin(bought_list, recommended_list)\n",
        "    \n",
        "    recall = flags.sum() / len(bought_list)\n",
        "    \n",
        "    return recall\n",
        "\n",
        "\n",
        "recall_at_k(recommended_list, bought_list, k=5)"
      ],
      "execution_count": null,
      "outputs": [
        {
          "output_type": "execute_result",
          "data": {
            "text/plain": [
              "0.5"
            ]
          },
          "metadata": {
            "tags": []
          },
          "execution_count": 89
        }
      ]
    },
    {
      "cell_type": "code",
      "metadata": {
        "id": "yfWfnfs7oIQE",
        "colab_type": "code",
        "colab": {},
        "outputId": "dd031362-1025-4552-ac42-e4ebf7ca7e06"
      },
      "source": [
        "# Money Recall@k = (revenue of recommended items @k that are relevant) / (revenue of relevant items)\n",
        "def money_recall_at_k(recommended_list, bought_list, prices_recommended, prices_bought, k=5):\n",
        "    \n",
        "    bought_list = np.array(bought_list)\n",
        "    recommended_list = np.array(recommended_list)     \n",
        "    prices_recommended = np.array(prices_recommended)   \n",
        "    prices_bought = np.array(prices_bought)\n",
        "\n",
        "    recommended_list = recommended_list[:k]\n",
        "    prices_recommended = prices_recommended[:k]\n",
        "    \n",
        "    flags = np.isin(recommended_list, bought_list)\n",
        "    \n",
        "    recall = sum(flags*prices_recommended)/sum(prices_bought)\n",
        "    \n",
        "    return recall\n",
        "\n",
        "money_recall_at_k(recommended_list, bought_list, prices_recommended, prices_bought, k=5)"
      ],
      "execution_count": null,
      "outputs": [
        {
          "output_type": "execute_result",
          "data": {
            "text/plain": [
              "0.6470588235294118"
            ]
          },
          "metadata": {
            "tags": []
          },
          "execution_count": 90
        }
      ]
    },
    {
      "cell_type": "code",
      "metadata": {
        "id": "Seeh2681oIQH",
        "colab_type": "code",
        "colab": {},
        "outputId": "7e7963ee-21c5-448f-d045-f5c902d0baa5"
      },
      "source": [
        "# Mean Reciprocal Rank\n",
        "# вот вопрос. если в лекции написано, что \"Считаем для первых k рекоммендаций\", почему в заготовке функции нет параметра k?\n",
        "def reciprocal_rank(recommended_list, bought_list, k=5):\n",
        "    bought_list = np.array(bought_list)\n",
        "    recommended_list = np.array(recommended_list)\n",
        "    \n",
        "    recommended_list = recommended_list[:k]\n",
        "    \n",
        "    flags = np.isin(recommended_list, bought_list)\n",
        "\n",
        "    result = np.mean([1/(i+1) for i,x in enumerate(flags) if x])\n",
        "    \n",
        "    return result\n",
        "\n",
        "reciprocal_rank(recommended_list, bought_list)\n"
      ],
      "execution_count": null,
      "outputs": [
        {
          "output_type": "execute_result",
          "data": {
            "text/plain": [
              "0.625"
            ]
          },
          "metadata": {
            "tags": []
          },
          "execution_count": 91
        }
      ]
    },
    {
      "cell_type": "code",
      "metadata": {
        "id": "smc3sK9FoIQK",
        "colab_type": "code",
        "colab": {}
      },
      "source": [
        ""
      ],
      "execution_count": null,
      "outputs": []
    }
  ]
}